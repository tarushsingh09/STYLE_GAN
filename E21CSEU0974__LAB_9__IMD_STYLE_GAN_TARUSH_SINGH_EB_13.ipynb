{
  "nbformat": 4,
  "nbformat_minor": 0,
  "metadata": {
    "colab": {
      "provenance": [],
      "gpuType": "T4",
      "authorship_tag": "ABX9TyOO4aOQJZIJSJMGQkeMThXn",
      "include_colab_link": true
    },
    "kernelspec": {
      "name": "python3",
      "display_name": "Python 3"
    },
    "language_info": {
      "name": "python"
    },
    "accelerator": "GPU"
  },
  "cells": [
    {
      "cell_type": "markdown",
      "metadata": {
        "id": "view-in-github",
        "colab_type": "text"
      },
      "source": [
        "<a href=\"https://colab.research.google.com/github/tarushsingh09/STYLE_GAN/blob/main/E21CSEU0974__LAB_9__IMD_STYLE_GAN_TARUSH_SINGH_EB_13.ipynb\" target=\"_parent\"><img src=\"https://colab.research.google.com/assets/colab-badge.svg\" alt=\"Open In Colab\"/></a>"
      ]
    },
    {
      "cell_type": "markdown",
      "source": [
        "#E21CSEU0974\n",
        "#TARUSH SINGH\n",
        "#EB-13\n",
        "#G-2\n",
        "#INTELLIGENT MODEL DESIGN USING AI LAB 9\n",
        "##STYLE GAN\n",
        "\n",
        "\n",
        "\n",
        "## Task-to-Do\n",
        "*   Understand the components of StyleGAN that differ from the traditional GAN.\n",
        "*   Implement the components of StyleGAN(1.5 Marks)\n",
        "*   Compare PSO method with keras tuner."
      ],
      "metadata": {
        "id": "R_0a3eqSNkQQ"
      }
    },
    {
      "cell_type": "markdown",
      "source": [
        "#Task 1: Understand the Components of StyleGAN:\n",
        "\n",
        "##StyleGAN introduces several components that distinguish it from traditional GANs. Some key components include:\n",
        "\n",
        "*   Mapping Network: StyleGAN uses a mapping network to transform a latent vector into an intermediate latent space, which is then used to generate images.\n",
        "*   Style Mixing: Allows the model to combine different styles at different resolutions during the generation process.\n",
        "*   Adaptive Instance Normalization (AdaIN): Modifies the mean and standard deviation of the intermediate features to incorporate style information.\n",
        "*   Noise Injection: Adds controlled noise to the input of each layer, enhancing variety in generated images.\n",
        "\n",
        "\n",
        "\n",
        "\n",
        "\n"
      ],
      "metadata": {
        "id": "BLAcds3O4uNt"
      }
    },
    {
      "cell_type": "markdown",
      "source": [
        "#Task 2: Implement Components of StyleGAN\n"
      ],
      "metadata": {
        "id": "IrdLYRhX5827"
      }
    },
    {
      "cell_type": "code",
      "execution_count": 1,
      "metadata": {
        "colab": {
          "base_uri": "https://localhost:8080/",
          "height": 0
        },
        "id": "tMk59OOY4SZ6",
        "outputId": "5b9eaf0f-eba4-4eb5-e477-234042200570"
      },
      "outputs": [
        {
          "output_type": "stream",
          "name": "stdout",
          "text": [
            "Model: \"stylegan_generator\"\n",
            "__________________________________________________________________________________________________\n",
            " Layer (type)                Output Shape                 Param #   Connected to                  \n",
            "==================================================================================================\n",
            " input_3 (InputLayer)        [(None, 128)]                0         []                            \n",
            "                                                                                                  \n",
            " mapping_network (Functiona  (None, 128)                  526464    ['input_3[0][0]']             \n",
            " l)                                                                                               \n",
            "                                                                                                  \n",
            " input_2 (InputLayer)        [(None, 256, 256, 1)]        0         []                            \n",
            "                                                                                                  \n",
            " lambda (Lambda)             (None, 1, 1, 1, 256, 256,    0         ['mapping_network[0][0]',     \n",
            "                             128)                                    'input_2[0][0]',             \n",
            "                                                                     'mapping_network[0][0]']     \n",
            "                                                                                                  \n",
            " conv2d (Conv2D)             (None, 1, 1, 1, 256, 256,    387       ['lambda[0][0]']              \n",
            "                             3)                                                                   \n",
            "                                                                                                  \n",
            "==================================================================================================\n",
            "Total params: 526851 (2.01 MB)\n",
            "Trainable params: 526851 (2.01 MB)\n",
            "Non-trainable params: 0 (0.00 Byte)\n",
            "__________________________________________________________________________________________________\n"
          ]
        }
      ],
      "source": [
        "import tensorflow as tf\n",
        "from tensorflow.keras.layers import Dense, Reshape, Conv2D, UpSampling2D, Input, Lambda\n",
        "from tensorflow.keras.models import Model\n",
        "from tensorflow.keras import backend as K\n",
        "\n",
        "# Mapping Network\n",
        "def mapping_network(latent_dim, hidden_dim, num_layers):\n",
        "    inputs = Input(shape=(latent_dim,))\n",
        "    x = inputs\n",
        "    for _ in range(num_layers):\n",
        "        x = Dense(hidden_dim, activation='relu')(x)\n",
        "    outputs = Dense(latent_dim)(x)\n",
        "    return Model(inputs, outputs, name='mapping_network')\n",
        "\n",
        "# Generator\n",
        "def stylegan_generator(latent_dim, hidden_dim, num_layers, resolution):\n",
        "    mapping = mapping_network(latent_dim, hidden_dim, num_layers)\n",
        "\n",
        "    noise_inputs = Input(shape=(resolution, resolution, 1))\n",
        "    latent_inputs = Input(shape=(latent_dim,))\n",
        "\n",
        "    x = mapping(latent_inputs)\n",
        "\n",
        "    # AdaIN and Noise Injection\n",
        "    x = Lambda(lambda x: x[0] * K.expand_dims(K.expand_dims(K.expand_dims(x[1], axis=1), axis=1), axis=1) + x[2])([x, noise_inputs, x])\n",
        "\n",
        "    # Upsampling layers...\n",
        "\n",
        "    outputs = Conv2D(3, kernel_size=(1, 1), activation='tanh')(x)\n",
        "\n",
        "    return Model([noise_inputs, latent_inputs], outputs, name='stylegan_generator')\n",
        "\n",
        "# Instantiate the generator\n",
        "latent_dim = 128\n",
        "hidden_dim = 256\n",
        "num_layers = 8\n",
        "resolution = 256\n",
        "\n",
        "generator = stylegan_generator(latent_dim, hidden_dim, num_layers, resolution)\n",
        "\n",
        "# Print the model summary\n",
        "generator.summary()"
      ]
    },
    {
      "cell_type": "markdown",
      "source": [
        "#Task 3: Compare PSO with Keras Tuner\n"
      ],
      "metadata": {
        "id": "Ac1m9BzL5_Nh"
      }
    },
    {
      "cell_type": "code",
      "source": [
        "pip install pyswarm"
      ],
      "metadata": {
        "colab": {
          "base_uri": "https://localhost:8080/",
          "height": 0
        },
        "id": "sLnK-gi054ot",
        "outputId": "32d12cf7-ef7b-4c04-a355-88aca0cd80a9"
      },
      "execution_count": 11,
      "outputs": [
        {
          "output_type": "stream",
          "name": "stdout",
          "text": [
            "Requirement already satisfied: pyswarm in /usr/local/lib/python3.10/dist-packages (0.6)\n",
            "Requirement already satisfied: numpy in /usr/local/lib/python3.10/dist-packages (from pyswarm) (1.23.5)\n"
          ]
        }
      ]
    },
    {
      "cell_type": "code",
      "source": [
        "import time\n",
        "import numpy as np\n",
        "from sklearn.datasets import make_classification  # Import make_classification\n",
        "from sklearn.model_selection import train_test_split\n",
        "from sklearn.neural_network import MLPClassifier\n",
        "from sklearn.metrics import accuracy_score\n",
        "\n",
        "# Generate synthetic data\n",
        "X, y = make_classification(n_samples=1000, n_features=20, random_state=42)\n",
        "\n",
        "# Split the data into training and test sets\n",
        "X_train, X_test, y_train, y_test = train_test_split(X, y, test_size=0.2, random_state=42)\n",
        "\n",
        "# Define a basic MLP model\n",
        "def build_model(hidden_layer_sizes, learning_rate):\n",
        "    model = MLPClassifier(hidden_layer_sizes=hidden_layer_sizes, learning_rate_init=learning_rate, random_state=42)\n",
        "    return model\n",
        "\n",
        "# Train and evaluate a model with default hyperparameters\n",
        "model = build_model(hidden_layer_sizes=(100, 100), learning_rate=0.001)\n",
        "model.fit(X_train, y_train)\n",
        "y_pred = model.predict(X_test)\n",
        "accuracy_default = accuracy_score(y_test, y_pred)\n",
        "print(\"Default Model Accuracy:\", accuracy_default)"
      ],
      "metadata": {
        "id": "d6Aggr_L6e0b",
        "colab": {
          "base_uri": "https://localhost:8080/",
          "height": 0
        },
        "outputId": "1cef64cc-9718-4e43-c972-abed3b46112d"
      },
      "execution_count": 12,
      "outputs": [
        {
          "output_type": "stream",
          "name": "stdout",
          "text": [
            "Default Model Accuracy: 0.81\n"
          ]
        }
      ]
    },
    {
      "cell_type": "code",
      "source": [
        "import time\n",
        "import pyswarm\n",
        "from kerastuner.tuners import RandomSearch\n",
        "from kerastuner.engine.hyperparameters import HyperParameters\n",
        "from sklearn.neural_network import MLPClassifier\n",
        "import numpy as np\n",
        "from sklearn.model_selection import train_test_split\n",
        "from sklearn.metrics import accuracy_score\n",
        "from sklearn.utils.extmath import safe_sparse_dot\n",
        "\n",
        "# Define a fitness function for PSO\n",
        "def fitness_function_pso(x):\n",
        "    hidden_layer_sizes = (int(x[0]), int(x[1]))\n",
        "    learning_rate = x[2]\n",
        "\n",
        "    model = MLPClassifier(hidden_layer_sizes=hidden_layer_sizes, learning_rate_init=learning_rate, random_state=42)\n",
        "\n",
        "    n_epochs = 10  # You can adjust the number of epochs\n",
        "\n",
        "    best_loss = float(\"inf\")\n",
        "    n_no_improvement = 0\n",
        "    patience = 5  # Adjust the patience as needed\n",
        "\n",
        "    for epoch in range(n_epochs):\n",
        "        model.partial_fit(X_train, y_train, classes=np.unique(y_train))\n",
        "        y_pred = model.predict(X_test)\n",
        "        accuracy = accuracy_score(y_test, y_pred)\n",
        "        val_loss = -accuracy  # Inverse accuracy as PSO minimizes\n",
        "        if val_loss < best_loss:\n",
        "            best_loss = val_loss\n",
        "            n_no_improvement = 0\n",
        "        else:\n",
        "            n_no_improvement += 1\n",
        "            if n_no_improvement >= patience:\n",
        "                break  # Early stopping\n",
        "\n",
        "    return best_loss\n",
        "\n",
        "# PSO hyperparameter search space (bounds for hidden layers and learning rate)\n",
        "lb = [50, 50, 0.0001]\n",
        "ub = [200, 200, 0.01]\n",
        "\n",
        "# Measure the time taken by PSO\n",
        "start_time_pso = time.time()\n",
        "\n",
        "# Use PSO to optimize hyperparameters\n",
        "x_opt_pso, f_opt_pso = pyswarm.pso(fitness_function_pso, lb, ub, swarmsize=10, maxiter=20)\n",
        "# Calculate the time taken by PSO\n",
        "pso_time = time.time() - start_time_pso\n",
        "# Calculate predictions for the PSO model\n",
        "y_pred_pso = model.predict(X_test)\n",
        "accuracy_pso = accuracy_score(y_test, y_pred_pso)"
      ],
      "metadata": {
        "colab": {
          "base_uri": "https://localhost:8080/",
          "height": 0
        },
        "id": "j_U82yKV-7qy",
        "outputId": "4c67f1e8-4653-4c98-aa18-35105f0ca2fb"
      },
      "execution_count": 22,
      "outputs": [
        {
          "output_type": "stream",
          "name": "stdout",
          "text": [
            "Stopping search: maximum iterations reached --> 20\n"
          ]
        }
      ]
    },
    {
      "cell_type": "code",
      "source": [
        "print(\"Optimized Hyperparameters (PSO):\")\n",
        "print(\"Hidden Layer Sizes:\", (int(x_opt_pso[0]), int(x_opt_pso[1])))\n",
        "print(\"Learning Rate:\", x_opt_pso[2])"
      ],
      "metadata": {
        "colab": {
          "base_uri": "https://localhost:8080/",
          "height": 0
        },
        "id": "sGplkOPMBsgz",
        "outputId": "6c894d3b-9248-4eb8-806e-324daf15bbfb"
      },
      "execution_count": 23,
      "outputs": [
        {
          "output_type": "stream",
          "name": "stdout",
          "text": [
            "Optimized Hyperparameters (PSO):\n",
            "Hidden Layer Sizes: (148, 105)\n",
            "Learning Rate: 0.0021932045272550823\n"
          ]
        }
      ]
    },
    {
      "cell_type": "code",
      "source": [
        "import time\n",
        "import tensorflow as tf\n",
        "import numpy as np\n",
        "from sklearn.model_selection import train_test_split\n",
        "from sklearn.metrics import accuracy_score\n",
        "from kerastuner.tuners import RandomSearch\n",
        "from kerastuner.engine.hyperparameters import HyperParameters\n",
        "from tensorflow.keras.models import Sequential\n",
        "from tensorflow.keras.layers import Dense\n",
        "from tensorflow.keras.optimizers import Adam\n",
        "\n",
        "# Generate synthetic data\n",
        "X, y = make_classification(n_samples=1000, n_features=20, random_state=42)\n",
        "\n",
        "# Split the data into training and test sets\n",
        "X_train, X_test, y_train, y_test = train_test_split(X, y, test_size=0.2, random_state=42)\n",
        "\n",
        "# Define a function to build the Keras model with hyperparameters\n",
        "def build_model(hp):\n",
        "    model = Sequential()\n",
        "    model.add(Dense(units=hp.Int('units_1', min_value=50, max_value=200, step=10), activation='relu', input_dim=X_train.shape[1]))\n",
        "    model.add(Dense(units=hp.Int('units_2', min_value=50, max_value=200, step=10), activation='relu'))\n",
        "    model.add(Dense(1, activation='sigmoid'))\n",
        "\n",
        "    model.compile(\n",
        "        optimizer=Adam(learning_rate=hp.Choice('learning_rate', values=[1e-4, 1e-3, 1e-2])),\n",
        "        loss='binary_crossentropy',\n",
        "        metrics=['accuracy']\n",
        "    )\n",
        "    return model\n",
        "# Measure the time taken by Keras Tuner\n",
        "start_time_keras_tuner = time.time()\n",
        "\n",
        "# Instantiate the Keras Tuner RandomSearch tuner\n",
        "tuner = RandomSearch(build_model, objective='val_accuracy', max_trials=10, directory='keras_tuner_dir', project_name='my_tuner')\n",
        "\n",
        "# Search for the best hyperparameters using Keras Tuner\n",
        "tuner.search(X_train, y_train, validation_data=(X_test, y_test), epochs=10)\n",
        "\n",
        "# Get the best hyperparameters\n",
        "best_hps = tuner.get_best_hyperparameters(num_trials=1)[0]\n",
        "\n",
        "# Build the best model using the best hyperparameters\n",
        "best_model_keras_tuner = tuner.hypermodel.build(best_hps)\n",
        "\n",
        "# Train the best model\n",
        "best_model_keras_tuner.fit(X_train, y_train, epochs=10, validation_data=(X_test, y_test))\n",
        "\n",
        "# Calculate the time taken by Keras Tuner\n",
        "keras_tuner_time = time.time() - start_time_keras_tuner\n",
        "\n",
        "# Predict probabilities using the model\n",
        "y_prob_keras_tuner = best_model_keras_tuner.predict(X_test)\n",
        "\n",
        "# Convert probabilities to binary class predictions (e.g., threshold at 0.5)\n",
        "y_pred_keras_tuner = (y_prob_keras_tuner > 0.5).astype(int)\n",
        "\n",
        "# Calculate the accuracy based on binary predictions\n",
        "accuracy_keras_tuner = accuracy_score(y_test, y_pred_keras_tuner)"
      ],
      "metadata": {
        "colab": {
          "base_uri": "https://localhost:8080/",
          "height": 0
        },
        "id": "ocUTYi5RBx2y",
        "outputId": "0c258574-299b-4332-e91d-1bee088fa7d0"
      },
      "execution_count": 27,
      "outputs": [
        {
          "output_type": "stream",
          "name": "stdout",
          "text": [
            "Reloading Tuner from keras_tuner_dir/my_tuner/tuner0.json\n",
            "Epoch 1/10\n",
            "25/25 [==============================] - 2s 27ms/step - loss: 0.4278 - accuracy: 0.8275 - val_loss: 0.3536 - val_accuracy: 0.8400\n",
            "Epoch 2/10\n",
            "25/25 [==============================] - 0s 9ms/step - loss: 0.2915 - accuracy: 0.8875 - val_loss: 0.3903 - val_accuracy: 0.8850\n",
            "Epoch 3/10\n",
            "25/25 [==============================] - 0s 10ms/step - loss: 0.2497 - accuracy: 0.9087 - val_loss: 0.3806 - val_accuracy: 0.8700\n",
            "Epoch 4/10\n",
            "25/25 [==============================] - 0s 8ms/step - loss: 0.2131 - accuracy: 0.9162 - val_loss: 0.4181 - val_accuracy: 0.8750\n",
            "Epoch 5/10\n",
            "25/25 [==============================] - 0s 12ms/step - loss: 0.1832 - accuracy: 0.9312 - val_loss: 0.4431 - val_accuracy: 0.8500\n",
            "Epoch 6/10\n",
            "25/25 [==============================] - 0s 9ms/step - loss: 0.1594 - accuracy: 0.9413 - val_loss: 0.4762 - val_accuracy: 0.8100\n",
            "Epoch 7/10\n",
            "25/25 [==============================] - 0s 11ms/step - loss: 0.1544 - accuracy: 0.9325 - val_loss: 0.6194 - val_accuracy: 0.8300\n",
            "Epoch 8/10\n",
            "25/25 [==============================] - 0s 7ms/step - loss: 0.1209 - accuracy: 0.9575 - val_loss: 0.5642 - val_accuracy: 0.8250\n",
            "Epoch 9/10\n",
            "25/25 [==============================] - 0s 15ms/step - loss: 0.0836 - accuracy: 0.9712 - val_loss: 0.6101 - val_accuracy: 0.8350\n",
            "Epoch 10/10\n",
            "25/25 [==============================] - 0s 13ms/step - loss: 0.0642 - accuracy: 0.9737 - val_loss: 0.7148 - val_accuracy: 0.8250\n",
            "7/7 [==============================] - 0s 7ms/step\n"
          ]
        }
      ]
    },
    {
      "cell_type": "code",
      "source": [
        "# Print the optimized hyperparameters\n",
        "print(\"Optimized Hyperparameters (Keras Tuner):\")\n",
        "print(\"Hidden Layer Sizes:\", best_hps.get('units_1'), best_hps.get('units_2'))\n",
        "print(\"Learning Rate:\", best_hps.get('learning_rate'))"
      ],
      "metadata": {
        "colab": {
          "base_uri": "https://localhost:8080/",
          "height": 0
        },
        "id": "M1o4IMFJCulz",
        "outputId": "f3cd6d06-84d2-4320-d992-cf2b221c8679"
      },
      "execution_count": 28,
      "outputs": [
        {
          "output_type": "stream",
          "name": "stdout",
          "text": [
            "Optimized Hyperparameters (Keras Tuner):\n",
            "Hidden Layer Sizes: 70 200\n",
            "Learning Rate: 0.01\n"
          ]
        }
      ]
    },
    {
      "cell_type": "code",
      "source": [
        "# Print and compare results\n",
        "print(\"PSO Time:\", pso_time)\n",
        "print(\"Keras Tuner Time:\", keras_tuner_time)\n",
        "print(\"PSO Accuracy:\", accuracy_pso)\n",
        "print(\"Keras Tuner Accuracy:\", accuracy_keras_tuner)"
      ],
      "metadata": {
        "colab": {
          "base_uri": "https://localhost:8080/",
          "height": 0
        },
        "id": "LFO9YyVDKsS6",
        "outputId": "605652dd-5c20-49ea-da05-7a9a6bf6609c"
      },
      "execution_count": 29,
      "outputs": [
        {
          "output_type": "stream",
          "name": "stdout",
          "text": [
            "PSO Time: 31.654032707214355\n",
            "Keras Tuner Time: 4.832805633544922\n",
            "PSO Accuracy: 0.81\n",
            "Keras Tuner Accuracy: 0.825\n"
          ]
        }
      ]
    }
  ]
}